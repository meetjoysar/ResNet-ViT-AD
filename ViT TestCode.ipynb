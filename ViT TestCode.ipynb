{
 "cells": [
  {
   "cell_type": "code",
   "execution_count": 6,
   "metadata": {},
   "outputs": [],
   "source": [
    "import os\n",
    "import numpy as np\n",
    "import matplotlib.pyplot as plt\n",
    "import torch\n",
    "from torch.utils.data import DataLoader\n",
    "from torchvision import datasets, transforms\n",
    "from sklearn.metrics import accuracy_score, precision_score, recall_score, f1_score, confusion_matrix, classification_report\n",
    "import seaborn as sns\n",
    "from pathlib import Path"
   ]
  },
  {
   "cell_type": "code",
   "execution_count": 7,
   "metadata": {},
   "outputs": [],
   "source": [
    "class Config:\n",
    "    INPUT_HEIGHT = 224\n",
    "    INPUT_WIDTH = 224\n",
    "    IMAGENET_MEAN = [0.50, 0.50, 0.50]\n",
    "    IMAGENET_STD = [0.50, 0.50, 0.50]\n",
    "    BATCH_SIZE = 32\n",
    "    MODEL_NAME = 'vit_base'\n",
    "    DEVICE = 'cuda' if torch.cuda.is_available() else 'cpu'\n",
    "    NUM_CLASSES = 4  # Will be set based on dataset"
   ]
  },
  {
   "cell_type": "code",
   "execution_count": 8,
   "metadata": {},
   "outputs": [],
   "source": [
    "def compute_specificity(confusion_matrix):\n",
    "    \"\"\"\n",
    "    Compute specificity from confusion matrix.\n",
    "    Specificity = TN / (TN + FP)\n",
    "    \"\"\"\n",
    "    n_classes = confusion_matrix.shape[0]\n",
    "    specificities = []\n",
    "    \n",
    "    for i in range(n_classes):\n",
    "        # True negatives are the sum of all values except those in row i and column i\n",
    "        tn = confusion_matrix.sum() - confusion_matrix[i, :].sum() - confusion_matrix[:, i].sum() + confusion_matrix[i, i]\n",
    "        # False positives are the sum of all values in column i except the true positive\n",
    "        fp = confusion_matrix[:, i].sum() - confusion_matrix[i, i]\n",
    "        \n",
    "        # Avoid division by zero\n",
    "        if tn + fp == 0:\n",
    "            specificities.append(0.0)\n",
    "        else:\n",
    "            specificities.append(tn / (tn + fp))\n",
    "            \n",
    "    return np.mean(specificities)\n",
    "\n",
    "def evaluate_model(model, test_loader, target_names, model_name=\"Model\", output_dir=None):\n",
    "    \"\"\"\n",
    "    Evaluate a model with detailed metrics including specificity\n",
    "    \"\"\"\n",
    "    device = torch.device(\"cuda\" if torch.cuda.is_available() else \"cpu\")\n",
    "    model.to(device)\n",
    "    model.eval()\n",
    "    \n",
    "    all_preds = []\n",
    "    all_labels = []\n",
    "    all_probs = []\n",
    "    \n",
    "    print(f\"Evaluating {model_name} on {device}...\")\n",
    "    \n",
    "    with torch.inference_mode():\n",
    "        for images, labels in test_loader:\n",
    "            images = images.to(device)\n",
    "            outputs = model(images)\n",
    "            probs = torch.softmax(outputs, dim=1)\n",
    "            _, preds = torch.max(outputs, 1)\n",
    "            \n",
    "            all_preds.extend(preds.cpu().numpy())\n",
    "            all_labels.extend(labels.numpy())\n",
    "            all_probs.extend(probs.cpu().numpy())\n",
    "    \n",
    "    # Convert to numpy arrays\n",
    "    y_true = np.array(all_labels)\n",
    "    y_pred = np.array(all_preds)\n",
    "    \n",
    "    # Calculate confusion matrix\n",
    "    cm = confusion_matrix(y_true, y_pred)\n",
    "    \n",
    "    # Calculate metrics\n",
    "    accuracy = accuracy_score(y_true, y_pred)\n",
    "    precision = precision_score(y_true, y_pred, average='macro')\n",
    "    recall = recall_score(y_true, y_pred, average='macro')\n",
    "    f1 = f1_score(y_true, y_pred, average='macro')\n",
    "    specificity = compute_specificity(cm)\n",
    "    \n",
    "    # Print confusion matrix\n",
    "    print(f\"\\n{model_name} - Confusion Matrix:\")\n",
    "    print(cm)\n",
    "    \n",
    "    # Print classification report with more decimal places\n",
    "    report = classification_report(y_true, y_pred, target_names=target_names, digits=4)\n",
    "    print(f\"\\n{model_name} - Classification Report:\")\n",
    "    print(report)\n",
    "    \n",
    "    # Print metrics with 4 decimal places\n",
    "    print(f\"{model_name} - Metrics (Macro-Averaged):\")\n",
    "    print(f\"  Accuracy:    {accuracy:.4f}\")\n",
    "    print(f\"  Precision:   {precision:.4f}\")\n",
    "    print(f\"  Recall:      {recall:.4f}\")\n",
    "    print(f\"  Specificity: {specificity:.4f}\")\n",
    "    print(f\"  F1 Score:    {f1:.4f}\")\n",
    "    \n",
    "    # Plot confusion matrix\n",
    "    plt.figure(figsize=(10, 8))\n",
    "    sns.heatmap(cm, annot=True, fmt='d', cmap='Blues', \n",
    "                xticklabels=target_names, yticklabels=target_names)\n",
    "    plt.title(f'{model_name} - Confusion Matrix')\n",
    "    plt.xlabel('Predicted')\n",
    "    plt.ylabel('True')\n",
    "    \n",
    "    # Save figure if output_dir is provided\n",
    "    if output_dir:\n",
    "        os.makedirs(output_dir, exist_ok=True)\n",
    "        plt.savefig(os.path.join(output_dir, f\"{model_name.replace(' ', '_')}_confusion_matrix.png\"))\n",
    "    \n",
    "    plt.show()\n",
    "    \n",
    "    # Return metrics dictionary\n",
    "    return {\n",
    "        'accuracy': accuracy,\n",
    "        'precision': precision,\n",
    "        'recall': recall,\n",
    "        'specificity': specificity,\n",
    "        'f1': f1,\n",
    "        'confusion_matrix': cm\n",
    "    }\n",
    "\n",
    "def load_model(model_path, num_classes):\n",
    "    \"\"\"\n",
    "    Load a model from a checkpoint file\n",
    "    \"\"\"\n",
    "    from super_gradients.training import models\n",
    "    \n",
    "    # Initialize the model architecture\n",
    "    model = models.get(Config.MODEL_NAME, num_classes=num_classes, pretrained_weights='imagenet')\n",
    "    \n",
    "    # Load the checkpoint\n",
    "    checkpoint = torch.load(model_path, map_location=Config.DEVICE)\n",
    "    \n",
    "    # Handle different checkpoint formats\n",
    "    if 'model_state_dict' in checkpoint:\n",
    "        model.load_state_dict(checkpoint['model_state_dict'])\n",
    "    else:\n",
    "        model.load_state_dict(checkpoint)\n",
    "    \n",
    "    return model\n",
    "\n",
    "def create_test_dataloader(test_dir, batch_size=32, num_workers=2):\n",
    "    \"\"\"\n",
    "    Create a test dataloader from a directory\n",
    "    \"\"\"\n",
    "    # Test transforms - no augmentation\n",
    "    test_transforms = transforms.Compose([\n",
    "        transforms.Grayscale(num_output_channels=3),\n",
    "        transforms.Resize((Config.INPUT_HEIGHT, Config.INPUT_WIDTH)),\n",
    "        transforms.ToTensor(),\n",
    "        transforms.Normalize(mean=Config.IMAGENET_MEAN, std=Config.IMAGENET_STD),\n",
    "    ])\n",
    "    \n",
    "    # Create dataset\n",
    "    test_data = datasets.ImageFolder(test_dir, transform=test_transforms)\n",
    "    \n",
    "    # Create dataloader\n",
    "    test_loader = DataLoader(\n",
    "        test_data,\n",
    "        batch_size=batch_size,\n",
    "        shuffle=False,\n",
    "        num_workers=num_workers,\n",
    "        pin_memory=True\n",
    "    )\n",
    "    \n",
    "    return test_loader, test_data.classes"
   ]
  },
  {
   "cell_type": "code",
   "execution_count": 9,
   "metadata": {},
   "outputs": [],
   "source": [
    "checkpoint_path = 'checkpoints/dec4ckpt_best.pth'  # Replace with actual path\n",
    "test_dir = 'content/test'              # Replace with actual path\n",
    "output_dir = 'evaluation_results'\n",
    "model_name = 'ViT Model'\n",
    "batch_size = 32\n",
    "os.makedirs(output_dir, exist_ok=True)"
   ]
  },
  {
   "cell_type": "code",
   "execution_count": 10,
   "metadata": {},
   "outputs": [],
   "source": [
    "test_loader, class_names = create_test_dataloader(test_dir, batch_size=batch_size)"
   ]
  },
  {
   "cell_type": "code",
   "execution_count": 11,
   "metadata": {},
   "outputs": [
    {
     "name": "stdout",
     "output_type": "stream",
     "text": [
      "Found 4 classes: ['Mild_Demented', 'Moderate_Demented', 'Non_Demented', 'Very_Mild_Demented']\n"
     ]
    }
   ],
   "source": [
    "Config.NUM_CLASSES = len(class_names)\n",
    "print(f\"Found {Config.NUM_CLASSES} classes: {class_names}\")"
   ]
  },
  {
   "cell_type": "code",
   "execution_count": 12,
   "metadata": {},
   "outputs": [],
   "source": [
    "model = load_model(checkpoint_path, Config.NUM_CLASSES)\n",
    "print(f\"Loaded model from {checkpoint_path}\")"
   ]
  },
  {
   "cell_type": "code",
   "execution_count": 13,
   "metadata": {},
   "outputs": [
    {
     "data": {
      "image/png": "[encoded data removed]",
      "text/plain": [
       "<Figure size 1000x800 with 2 Axes>"
      ]
     },
     "metadata": {},
     "output_type": "display_data"
    }
   ],
   "source": [
    "metrics = evaluate_model(\n",
    "    model=model,\n",
    "    test_loader=test_loader,\n",
    "    target_names=class_names,\n",
    "    model_name=model_name,\n",
    "    output_dir=output_dir\n",
    ")"
   ]
  },
  {
   "cell_type": "code",
   "execution_count": 14,
   "metadata": {},
   "outputs": [],
   "source": [
    "import json\n",
    "metrics_copy = metrics.copy()\n",
    "metrics_copy['confusion_matrix'] = metrics_copy['confusion_matrix'].tolist()  # Convert numpy array to list\n",
    "\n",
    "with open(os.path.join(output_dir, 'metrics.json'), 'w') as f:\n",
    "    json.dump(metrics_copy, f, indent=4)\n",
    "\n",
    "print(f\"Results saved to {output_dir}\")"
   ]
  }
 ],
 "metadata": {
  "kernelspec": {
   "display_name": ".venv",
   "language": "python",
   "name": "python3"
  },
  "language_info": {
   "codemirror_mode": {
    "name": "ipython",
    "version": 3
   },
   "file_extension": ".py",
   "mimetype": "text/x-python",
   "name": "python",
   "nbconvert_exporter": "python",
   "pygments_lexer": "ipython3",
   "version": "3.9.6"
  }
 },
 "nbformat": 4,
 "nbformat_minor": 2
}
